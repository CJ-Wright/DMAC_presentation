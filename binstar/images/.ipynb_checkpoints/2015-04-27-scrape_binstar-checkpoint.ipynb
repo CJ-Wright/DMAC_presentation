{
 "cells": [
  {
   "cell_type": "code",
   "execution_count": null,
   "metadata": {
    "collapsed": false
   },
   "outputs": [],
   "source": [
    "import requests\n",
    "import numpy as np\n",
    "from datetime import date\n",
    "from pandas import DataFrame\n",
    "from bs4 import BeautifulSoup\n",
    "from dateutil.relativedelta import relativedelta\n",
    "\n",
    "\n",
    "def todatetime(string):\n",
    "    number, period, _ = string.split()\n",
    "    if 'day' in period:\n",
    "        delta = relativedelta(days=int(number))\n",
    "    elif 'month' in period:\n",
    "        delta = relativedelta(months=int(number))\n",
    "    elif 'hour' in period:\n",
    "        delta = relativedelta(hours=int(number))\n",
    "    else:\n",
    "        raise ValueError(\"Unexpected period {!r}\".format(period))\n",
    "    return date.today() - delta\n",
    "\n",
    "\n",
    "def parse_name(cell):\n",
    "    name = cell.text.strip().split('/')\n",
    "    if len(name) != 2:\n",
    "        name = cell.text.strip().split('\\\\')\n",
    "    arch = '{}'.format(name[0].split()[1])\n",
    "    name = '{}'.format(name[1].split('.tar.bz2')[0])\n",
    "    return arch, name\n",
    "\n",
    "\n",
    "def get_df(package):\n",
    "    url = \"https://binstar.org/IOOS/{}/files\".format\n",
    "    r  = requests.get(url(package))\n",
    "    r.raise_for_status()\n",
    "    soup = BeautifulSoup(r.text)\n",
    "    table = soup.find(\"table\", {\"class\": \"table table-condensed table-striped\"})\n",
    "\n",
    "    downloads, uploaded, platforms, names = [], [], [], []\n",
    "    for row in table.findAll('tr'):\n",
    "        col = row.findAll('td')\n",
    "        if len(col) == 7:\n",
    "          downloads.append(int(col[5].text.strip()))\n",
    "          uploaded.append(todatetime(col[4].text.strip()))\n",
    "          platform, name = parse_name(col[3])\n",
    "          platforms.append(platform)\n",
    "          names.append(name)\n",
    "    df = DataFrame(data=np.c_[platforms, names, uploaded, downloads],\n",
    "                   columns=['platform', 'name', 'uploaded', 'downloads'])\n",
    "    df.set_index('uploaded', inplace=True, drop=True)\n",
    "    df['downloads'] = df['downloads'].astype(int)\n",
    "    return df"
   ]
  },
  {
   "cell_type": "code",
   "execution_count": null,
   "metadata": {
    "collapsed": false
   },
   "outputs": [],
   "source": [
    "from requests import HTTPError\n",
    "from pandas import Panel, read_json\n",
    "\n",
    "json = \"https://conda.binstar.org/IOOS/linux-64/repodata.json\"\n",
    "df = read_json(json)\n",
    "\n",
    "packages = sorted(set(['-'.join(pac.split('-')[:-2]) for pac in df.index]))\n",
    "\n",
    "dfs = dict()\n",
    "for pac in packages:\n",
    "    try:\n",
    "        dfs.update({pac: get_df(pac)})\n",
    "    except HTTPError:\n",
    "        continue"
   ]
  },
  {
   "cell_type": "code",
   "execution_count": null,
   "metadata": {
    "collapsed": false
   },
   "outputs": [],
   "source": [
    "def get_plat_total(df):\n",
    "    package = dict()\n",
    "    for plat in ['linux-64', 'linux-32','osx-64', 'win-32', 'win-64']:\n",
    "        total = df.query('platform == \"{}\"'.format(plat)).sum()\n",
    "        package.update({plat: total['downloads']})\n",
    "    return package\n",
    "\n",
    "\n",
    "packages = dict()\n",
    "for pac in dfs.keys():\n",
    "    df = dfs[pac]\n",
    "    packages.update({pac: get_plat_total(df)})"
   ]
  },
  {
   "cell_type": "code",
   "execution_count": null,
   "metadata": {
    "collapsed": false
   },
   "outputs": [],
   "source": [
    "df = DataFrame.from_dict(packages).T\n",
    "df['sum'] = df.T.sum()\n",
    "df.sort('sum', ascending=False, inplace=True)\n",
    "df.drop('sum', axis=1, inplace=True)"
   ]
  },
  {
   "cell_type": "code",
   "execution_count": null,
   "metadata": {
    "collapsed": true
   },
   "outputs": [],
   "source": [
    "%matplotlib inline\n",
    "\n",
    "import seaborn\n",
    "import matplotlib.pyplot as plt"
   ]
  },
  {
   "cell_type": "code",
   "execution_count": null,
   "metadata": {
    "collapsed": false
   },
   "outputs": [],
   "source": [
    "import matplotlib as mpl\n",
    "\n",
    "mpl.rcParams['text.color'] = 'ivory'"
   ]
  },
  {
   "cell_type": "code",
   "execution_count": null,
   "metadata": {
    "collapsed": false
   },
   "outputs": [],
   "source": [
    "fig, ax = plt.subplots()\n",
    "\n",
    "colors = ('yellowgreen', 'gold', 'cornflowerblue', 'lightcoral', 'darkorange')\n",
    "kw = dict(kind='pie', fontsize=17, shadow=True, startangle=90,\n",
    "          explode=(0.1, 0, 0.1, 0, 0), colors=colors)\n",
    "# autopct='%1.1f%%'\n",
    "ax = df.sum().plot(ax=ax, **kw)\n",
    "ax.set_ylabel(\"\")\n",
    "text = \"3840: linux-64\\n    64: linux-32\\n1316: oxs-64\\n1206: win-32\\n1757: win-64\\n8183: Total\"\n",
    "ax.text(0.99, 0.5, text, fontdict=dict(fontsize=17), transform=ax.transAxes)\n",
    "\n",
    "plt.axis('equal')\n",
    "\n",
    "fig.savefig(\"total_downloads.svg\", transparent=True, bbox_inches='tight')"
   ]
  },
  {
   "cell_type": "code",
   "execution_count": null,
   "metadata": {
    "collapsed": false
   },
   "outputs": [],
   "source": [
    "stride = 19 # 19 x 5 = 95\n",
    "kw = dict(kind='bar', stacked=True)\n",
    "\n",
    "fig, ax = plt.subplots(figsize=(11, 3))\n",
    "ax = df.ix[:stride].plot(ax=ax, **kw)\n",
    "\n",
    "fig, ax = plt.subplots(figsize=(11, 3))\n",
    "ax = df.ix[stride:stride*2].plot(ax=ax, **kw)\n",
    "\n",
    "fig, ax = plt.subplots(figsize=(11, 3))\n",
    "ax = df.ix[stride*2:stride*3].plot(ax=ax, **kw)\n",
    "\n",
    "fig, ax = plt.subplots(figsize=(11, 3))\n",
    "ax = df.ix[stride*3:stride*4].plot(ax=ax, **kw)\n",
    "\n",
    "fig, ax = plt.subplots(figsize=(11, 3))\n",
    "ax = df.ix[stride*4:stride*5].plot(ax=ax, **kw)"
   ]
  },
  {
   "cell_type": "code",
   "execution_count": null,
   "metadata": {
    "collapsed": false
   },
   "outputs": [],
   "source": [
    "df['win'] = df['win-32'] + df['win-64']\n",
    "\n",
    "total = df[['linux-64', 'osx-64', 'win']].sum()\n",
    "\n",
    "fig, ax = plt.subplots(figsize=(7, 3))\n",
    "ax = total.plot(ax=ax, kind='bar')"
   ]
  }
 ],
 "metadata": {
  "kernelspec": {
   "display_name": "Python 2",
   "language": "python",
   "name": "python2"
  },
  "language_info": {
   "codemirror_mode": {
    "name": "ipython",
    "version": 2
   },
   "file_extension": ".py",
   "mimetype": "text/x-python",
   "name": "python",
   "nbconvert_exporter": "python",
   "pygments_lexer": "ipython2",
   "version": "2.7.9"
  }
 },
 "nbformat": 4,
 "nbformat_minor": 0
}
